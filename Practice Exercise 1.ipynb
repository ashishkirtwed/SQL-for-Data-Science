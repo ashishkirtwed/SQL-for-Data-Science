{
 "cells": [
  {
   "cell_type": "markdown",
   "metadata": {},
   "source": [
    "### Practice Exercise1 "
   ]
  },
  {
   "cell_type": "markdown",
   "metadata": {},
   "source": [
    "**1. show all the database present in mysql**"
   ]
  },
  {
   "cell_type": "markdown",
   "metadata": {},
   "source": [
    "show databases;"
   ]
  },
  {
   "cell_type": "markdown",
   "metadata": {},
   "source": [
    "**2. Use the database sakila as listed in mysql**"
   ]
  },
  {
   "cell_type": "markdown",
   "metadata": {},
   "source": [
    "use sakila;"
   ]
  },
  {
   "cell_type": "markdown",
   "metadata": {},
   "source": [
    "**3. Show all the tables present in sakila database**"
   ]
  },
  {
   "cell_type": "markdown",
   "metadata": {},
   "source": [
    "show tables from sakila;"
   ]
  },
  {
   "cell_type": "markdown",
   "metadata": {},
   "source": [
    "#### 4. Describe actor table"
   ]
  },
  {
   "cell_type": "markdown",
   "metadata": {},
   "source": [
    "describe actor;"
   ]
  },
  {
   "cell_type": "markdown",
   "metadata": {},
   "source": [
    "#### 5. Display the first and last names of all actors from the table actor."
   ]
  },
  {
   "cell_type": "markdown",
   "metadata": {},
   "source": [
    "select first_name,last_name from actor;"
   ]
  }
 ],
 "metadata": {
  "kernelspec": {
   "display_name": "Python 3",
   "language": "python",
   "name": "python3"
  },
  "language_info": {
   "codemirror_mode": {
    "name": "ipython",
    "version": 3
   },
   "file_extension": ".py",
   "mimetype": "text/x-python",
   "name": "python",
   "nbconvert_exporter": "python",
   "pygments_lexer": "ipython3",
   "version": "3.8.5"
  }
 },
 "nbformat": 4,
 "nbformat_minor": 4
}
