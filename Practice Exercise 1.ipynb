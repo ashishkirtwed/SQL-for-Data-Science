{
 "cells": [
  {
   "cell_type": "markdown",
   "metadata": {},
   "source": [
    "### Practice Exercise1 "
   ]
  },
  {
   "cell_type": "markdown",
   "metadata": {},
   "source": [
    "**1. show all the database present in mysql**"
   ]
  },
  {
   "cell_type": "markdown",
   "metadata": {},
   "source": [
    "show databases;"
   ]
  },
  {
   "cell_type": "markdown",
   "metadata": {},
   "source": [
    "**2. Use the database sakila as listed in mysql**"
   ]
  },
  {
   "cell_type": "markdown",
   "metadata": {},
   "source": [
    "use sakila;"
   ]
  },
  {
   "cell_type": "markdown",
   "metadata": {},
   "source": [
    "**3. Show all the tables present in sakila database**"
   ]
  },
  {
   "cell_type": "markdown",
   "metadata": {},
   "source": [
    "show tables from sakila;"
   ]
  },
  {
   "cell_type": "markdown",
   "metadata": {},
   "source": [
    "#### 4. Describe actor table"
   ]
  },
  {
   "cell_type": "markdown",
   "metadata": {},
   "source": [
    "describe actor;"
   ]
  },
  {
   "cell_type": "markdown",
   "metadata": {},
   "source": [
    "#### 5. Display the first and last names of all actors from the table actor."
   ]
  },
  {
   "cell_type": "markdown",
   "metadata": {},
   "source": [
    "select first_name,last_name from actor;"
   ]
  },
  {
   "cell_type": "markdown",
   "metadata": {},
   "source": [
    "#### 6. Display the first and last name of each actor in a single column in upper case letters. Name the column Actor Name."
   ]
  },
  {
   "cell_type": "markdown",
   "metadata": {},
   "source": [
    "select upper(concat(first_name,' ',last_name)) as Full_Name\n",
    "from actor;"
   ]
  },
  {
   "cell_type": "markdown",
   "metadata": {},
   "source": [
    "#### 7. You need to find the ID number, first name, and last name of an actor, of whom you know only the first name, \"Joe.\" What is one query would you use to obtain this information?"
   ]
  },
  {
   "cell_type": "markdown",
   "metadata": {},
   "source": [
    "select actor_id, first_name,last_name \n",
    "from actor \n",
    "where first_name='Joe';\n",
    "---Note: Comparison case insensitive so no need to thing about upper or lower case"
   ]
  },
  {
   "cell_type": "markdown",
   "metadata": {},
   "source": [
    "#### 8. Find all actors whose last name contain the letters GEN:"
   ]
  },
  {
   "cell_type": "markdown",
   "metadata": {},
   "source": [
    "select * \n",
    "from actor\n",
    "where last_name like '%GEN%';\n",
    "--Note: There is no need to use upper or lower as like is case sensitive"
   ]
  },
  {
   "cell_type": "markdown",
   "metadata": {},
   "source": [
    "#### 9. Find all actors whose last names contain the letters LI. This time, order the rows by last name and first name, in that order:"
   ]
  },
  {
   "cell_type": "markdown",
   "metadata": {},
   "source": [
    "select * \n",
    "from actor\n",
    "where last_name like '%LI%' \n",
    "order by last_name,first_name;"
   ]
  },
  {
   "cell_type": "markdown",
   "metadata": {},
   "source": [
    "#### 10. Using IN, display the country_id and country columns of the following countries: Afghanistan, Bangladesh, and China"
   ]
  },
  {
   "cell_type": "markdown",
   "metadata": {},
   "source": [
    "select country_id, country \n",
    "from country\n",
    "where country in ('Afghanistan','Bangladesh','China');"
   ]
  },
  {
   "cell_type": "markdown",
   "metadata": {},
   "source": [
    "#### 11. You want to keep a description of each actor. You don't think you will be performing queries on a description, so create a column in the table actor named description and use the data type BLOB (Make sure to research the type BLOB, as the difference between it and VARCHAR are significant)."
   ]
  },
  {
   "cell_type": "markdown",
   "metadata": {},
   "source": [
    "Select * from actor;"
   ]
  },
  {
   "cell_type": "markdown",
   "metadata": {},
   "source": [
    "select * from actor;\n",
    "alter table actor \n",
    "add description BLOB;"
   ]
  },
  {
   "cell_type": "markdown",
   "metadata": {},
   "source": [
    "Select * from actor;"
   ]
  },
  {
   "cell_type": "markdown",
   "metadata": {},
   "source": [
    "#### 12. Very quickly you realize that entering descriptions for each actor is too much effort. Delete the description column\n"
   ]
  },
  {
   "cell_type": "markdown",
   "metadata": {},
   "source": [
    "Alter table actor \n",
    "drop column description;"
   ]
  },
  {
   "cell_type": "markdown",
   "metadata": {},
   "source": [
    "#### 13. List the last names of actors, as well as how many actors have that last name."
   ]
  },
  {
   "cell_type": "markdown",
   "metadata": {},
   "source": [
    "Select last_name,count(*) as actor_count\n",
    "from actor\n",
    "group by last_name\n",
    "order by actor_count DESC;"
   ]
  },
  {
   "cell_type": "markdown",
   "metadata": {},
   "source": [
    "#### 14. List last names of actors and the number of actors who have that last name, but only for names that are shared by at least two actors"
   ]
  },
  {
   "cell_type": "markdown",
   "metadata": {},
   "source": [
    "Select last_name, actor_count\n",
    "from (  select last_name, count(*) as actor_count\n",
    "from actor\n",
    "group by last_name\n",
    "order by actor_count desc, last_name\n",
    ") as temp\n",
    "where actor_count >=2;"
   ]
  },
  {
   "cell_type": "markdown",
   "metadata": {},
   "source": [
    "#### Or"
   ]
  },
  {
   "cell_type": "markdown",
   "metadata": {},
   "source": [
    "select last_name, count(*) actor_count \n",
    "from actor \n",
    "group by last_name\n",
    "having actor_count >1\n",
    "order by actor_count desc, last_name;"
   ]
  },
  {
   "cell_type": "markdown",
   "metadata": {},
   "source": [
    "#### 15. The actor HARPO WILLIAMS was accidentally entered in the actor table as GROUCHO WILLIAMS. Write a query to fix the record."
   ]
  },
  {
   "cell_type": "markdown",
   "metadata": {},
   "source": [
    "SET SQL_SAFE_UPDATES=0;"
   ]
  },
  {
   "cell_type": "markdown",
   "metadata": {},
   "source": [
    "update actor set first_name='HARPO',last_name=\"WILLIAMS\"\n",
    "where first_name=\"GROUCHO\"  and  last_name=\"WILLIAMS\";"
   ]
  },
  {
   "cell_type": "markdown",
   "metadata": {},
   "source": [
    "select * \n",
    "from actor\n",
    "where last_name=\"WILLIAMS\";"
   ]
  },
  {
   "cell_type": "markdown",
   "metadata": {},
   "source": [
    "#### "
   ]
  }
 ],
 "metadata": {
  "kernelspec": {
   "display_name": "Python 3",
   "language": "python",
   "name": "python3"
  },
  "language_info": {
   "codemirror_mode": {
    "name": "ipython",
    "version": 3
   },
   "file_extension": ".py",
   "mimetype": "text/x-python",
   "name": "python",
   "nbconvert_exporter": "python",
   "pygments_lexer": "ipython3",
   "version": "3.8.5"
  }
 },
 "nbformat": 4,
 "nbformat_minor": 4
}
