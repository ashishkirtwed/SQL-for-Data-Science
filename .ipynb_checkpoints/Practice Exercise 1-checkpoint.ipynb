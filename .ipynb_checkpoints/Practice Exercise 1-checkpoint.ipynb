{
 "cells": [
  {
   "cell_type": "markdown",
   "metadata": {},
   "source": [
    "### Practice Exercise1 "
   ]
  },
  {
   "cell_type": "markdown",
   "metadata": {},
   "source": [
    "**1. show all the database present in mysql**"
   ]
  },
  {
   "cell_type": "markdown",
   "metadata": {},
   "source": [
    "show databases;"
   ]
  },
  {
   "cell_type": "markdown",
   "metadata": {},
   "source": [
    "**2. Use the database sakila as listed in mysql**"
   ]
  },
  {
   "cell_type": "markdown",
   "metadata": {},
   "source": [
    "use sakila;"
   ]
  },
  {
   "cell_type": "markdown",
   "metadata": {},
   "source": [
    "**3. Show all the tables present in sakila database**"
   ]
  },
  {
   "cell_type": "markdown",
   "metadata": {},
   "source": [
    "show tables from sakila;"
   ]
  },
  {
   "cell_type": "markdown",
   "metadata": {},
   "source": [
    "#### 4. Describe actor table"
   ]
  },
  {
   "cell_type": "markdown",
   "metadata": {},
   "source": [
    "describe actor;"
   ]
  },
  {
   "cell_type": "markdown",
   "metadata": {},
   "source": [
    "#### 5. Display the first and last names of all actors from the table actor."
   ]
  },
  {
   "cell_type": "markdown",
   "metadata": {},
   "source": [
    "select first_name,last_name from actor;"
   ]
  },
  {
   "cell_type": "markdown",
   "metadata": {},
   "source": [
    "#### 6. Display the first and last name of each actor in a single column in upper case letters. Name the column Actor Name."
   ]
  },
  {
   "cell_type": "raw",
   "metadata": {},
   "source": [
    "select upper(concat(first_name,' ',last_name)) as Full_Name\n",
    "from actor;"
   ]
  },
  {
   "cell_type": "markdown",
   "metadata": {},
   "source": [
    "#### 7. You need to find the ID number, first name, and last name of an actor, of whom you know only the first name, \"Joe.\" What is one query would you use to obtain this information?"
   ]
  },
  {
   "cell_type": "raw",
   "metadata": {},
   "source": [
    "select actor_id, first_name,last_name \n",
    "from actor \n",
    "where first_name='Joe';\n",
    "---Note: Comparison case insensitive so no need to thing about upper or lower case"
   ]
  },
  {
   "cell_type": "markdown",
   "metadata": {},
   "source": [
    "#### 8. Find all actors whose last name contain the letters GEN:"
   ]
  },
  {
   "cell_type": "raw",
   "metadata": {},
   "source": [
    "select * \n",
    "from actor\n",
    "where last_name like '%GEN%';"
   ]
  },
  {
   "cell_type": "code",
   "execution_count": null,
   "metadata": {},
   "outputs": [],
   "source": []
  }
 ],
 "metadata": {
  "kernelspec": {
   "display_name": "Python 3",
   "language": "python",
   "name": "python3"
  },
  "language_info": {
   "codemirror_mode": {
    "name": "ipython",
    "version": 3
   },
   "file_extension": ".py",
   "mimetype": "text/x-python",
   "name": "python",
   "nbconvert_exporter": "python",
   "pygments_lexer": "ipython3",
   "version": "3.8.5"
  }
 },
 "nbformat": 4,
 "nbformat_minor": 4
}
